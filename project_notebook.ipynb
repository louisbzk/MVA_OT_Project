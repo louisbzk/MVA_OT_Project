{
 "cells": [
  {
   "cell_type": "code",
   "execution_count": null,
   "metadata": {
    "collapsed": true
   },
   "outputs": [],
   "source": [
    "import numpy as np\n",
    "import matplotlib.pyplot as plt\n",
    "import seaborn as sns\n",
    "import osborne\n",
    "import sinkhorn\n",
    "from timer import timeit\n",
    "import pandas as pd\n",
    "sns.set_theme()"
   ]
  },
  {
   "cell_type": "code",
   "execution_count": null,
   "outputs": [],
   "source": [
    "HYPERPARAMS = {  # lists with a wide range of param values. m, kappa and d are missing for now.\n",
    "    'n': [3, 8, 15, 30, 50, 80, 150, 300, 600, 1200],\n",
    "    'epsilon': [1e-3, 1e-5, 1e-8, 1e-12],\n",
    "}\n",
    "\n",
    "FUNCTIONS_TO_TIME = {\n",
    "    'cyclic_osborne': osborne.cyclic_osborne,\n",
    "    'greedy_osborne': osborne.greedy_osborne,\n",
    "    'random_cyclic_osborne': osborne.random_cyclic_osborne,\n",
    "    'random_osborne': osborne.random_osborne,\n",
    "}\n",
    "\n",
    "results_df = pd.DataFrame(columns=list(HYPERPARAMS.keys()) + list(FUNCTIONS_TO_TIME.keys()))"
   ],
   "metadata": {
    "collapsed": false
   }
  },
  {
   "cell_type": "code",
   "execution_count": null,
   "outputs": [],
   "source": [
    "# il faut trouver un moyen de générer des matrices avec un conditionnement +- bon (facile)\n",
    "# avec un sparsity pattern voulu (facile)\n",
    "# avec un diamètre voulu (difficile)\n"
   ],
   "metadata": {
    "collapsed": false
   }
  },
  {
   "cell_type": "code",
   "execution_count": null,
   "outputs": [],
   "source": [
    "def time_with_hyperparams(mat: np.ndarray,\n",
    "                          m: int,\n",
    "                          n: int,\n",
    "                          epsilon: float,\n",
    "                          kappa: float,\n",
    "                          d: int,\n",
    "                          funcs_dict: dict) -> dict:\n",
    "    results_dict = dict.fromkeys(funcs_dict.keys(), __value=[])\n",
    "    for func_name, func in funcs_dict.items():\n",
    "        timeit(func, log_dict=results_dict)\n",
    "\n",
    "    return results_dict"
   ],
   "metadata": {
    "collapsed": false
   }
  },
  {
   "cell_type": "code",
   "execution_count": null,
   "outputs": [],
   "source": [
    "from matrix_utils import compute_diameter\n",
    "A = np.random.rand(3, 3)\n",
    "compute_diameter(A)"
   ],
   "metadata": {
    "collapsed": false
   }
  },
  {
   "cell_type": "code",
   "execution_count": null,
   "outputs": [],
   "source": [
    "A"
   ],
   "metadata": {
    "collapsed": false
   }
  },
  {
   "cell_type": "code",
   "execution_count": null,
   "outputs": [],
   "source": [],
   "metadata": {
    "collapsed": false
   }
  }
 ],
 "metadata": {
  "kernelspec": {
   "display_name": "Python 3",
   "language": "python",
   "name": "python3"
  },
  "language_info": {
   "codemirror_mode": {
    "name": "ipython",
    "version": 2
   },
   "file_extension": ".py",
   "mimetype": "text/x-python",
   "name": "python",
   "nbconvert_exporter": "python",
   "pygments_lexer": "ipython2",
   "version": "2.7.6"
  }
 },
 "nbformat": 4,
 "nbformat_minor": 0
}
